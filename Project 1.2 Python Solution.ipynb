{
 "cells": [
  {
   "cell_type": "code",
   "execution_count": 4,
   "metadata": {
    "collapsed": true
   },
   "outputs": [],
   "source": [
    "from sklearn.cluster import KMeans\n",
    "import numpy as np\n",
    "import csv\n",
    "import math\n",
    "import matplotlib.pyplot\n",
    "from matplotlib import pyplot as plt"
   ]
  },
  {
   "cell_type": "code",
   "execution_count": 5,
   "metadata": {
    "collapsed": true
   },
   "outputs": [],
   "source": [
    "maxAcc = 0.0\n",
    "maxIter = 0\n",
    "TrainingPercent = 80\n",
    "ValidationPercent = 10\n",
    "TestPercent = 10\n",
    "PHI = []\n",
    "IsSynthetic = False"
   ]
  },
  {
   "cell_type": "code",
   "execution_count": 26,
   "metadata": {
    "collapsed": true
   },
   "outputs": [],
   "source": []
  },
  {
   "cell_type": "markdown",
   "metadata": {},
   "source": [
    "## Fetch and Prepare Dataset"
   ]
  },
  {
   "cell_type": "code",
   "execution_count": 6,
   "metadata": {},
   "outputs": [
    {
     "name": "stderr",
     "output_type": "stream",
     "text": [
      "/home/pratik/anaconda3/lib/python3.6/site-packages/ipykernel_launcher.py:3: DeprecationWarning: 'U' mode is deprecated\n",
      "  This is separate from the ipykernel package so we can avoid doing imports until\n",
      "/home/pratik/anaconda3/lib/python3.6/site-packages/ipykernel_launcher.py:12: DeprecationWarning: 'U' mode is deprecated\n",
      "  if sys.path[0] == '':\n"
     ]
    }
   ],
   "source": [
    "def GetTargetVector(filePath):\n",
    "    t = []\n",
    "    with open(filePath, 'rU') as f:\n",
    "        reader = csv.reader(f)\n",
    "        for row in reader:  \n",
    "            t.append(int(row[0]))\n",
    "    #print(\"Raw Training Generated..\")\n",
    "    return t\n",
    "\n",
    "def GenerateRawData(filePath, IsSynthetic):    \n",
    "    dataMatrix = [] \n",
    "    with open(filePath, 'rU') as fi:\n",
    "        reader = csv.reader(fi)\n",
    "        for row in reader:\n",
    "            dataRow = []\n",
    "            for column in row:\n",
    "                dataRow.append(float(column))\n",
    "            dataMatrix.append(dataRow)   \n",
    "    \n",
    "    if IsSynthetic == False :\n",
    "        dataMatrix = np.delete(dataMatrix, [5,6,7,8,9], axis=1)\n",
    "    dataMatrix = np.transpose(dataMatrix)     \n",
    "    #print (\"Data Matrix Generated..\")\n",
    "    return dataMatrix\n",
    "\n",
    "RawTarget = GetTargetVector('Querylevelnorm_t.csv')\n",
    "RawData   = GenerateRawData('Querylevelnorm_X.csv',IsSynthetic)"
   ]
  },
  {
   "cell_type": "markdown",
   "metadata": {},
   "source": [
    "## Prepare Training Data"
   ]
  },
  {
   "cell_type": "code",
   "execution_count": 7,
   "metadata": {},
   "outputs": [
    {
     "name": "stdout",
     "output_type": "stream",
     "text": [
      "(55699,)\n",
      "(41, 55699)\n"
     ]
    }
   ],
   "source": [
    "def GenerateTrainingTarget(rawTraining,TrainingPercent):\n",
    "    TrainingLen = int(math.ceil(len(rawTraining)*(TrainingPercent*0.01)))\n",
    "    t           = rawTraining[:TrainingLen]\n",
    "    #print(str(TrainingPercent) + \"% Training Target Generated..\")\n",
    "    return t\n",
    "\n",
    "def GenerateTrainingDataMatrix(rawData, TrainingPercent):\n",
    "    T_len = int(math.ceil(len(rawData[0])*0.01*TrainingPercent))\n",
    "    d2 = rawData[:,0:T_len]\n",
    "    #print(str(TrainingPercent) + \"% Training Data Generated..\")\n",
    "    return d2\n",
    "\n",
    "TrainingTarget = np.array(GenerateTrainingTarget(RawTarget,TrainingPercent))\n",
    "TrainingData   = GenerateTrainingDataMatrix(RawData,TrainingPercent)\n",
    "print(TrainingTarget.shape)\n",
    "print(TrainingData.shape)"
   ]
  },
  {
   "cell_type": "markdown",
   "metadata": {},
   "source": [
    "## Prepare Validation Data"
   ]
  },
  {
   "cell_type": "code",
   "execution_count": 8,
   "metadata": {},
   "outputs": [
    {
     "name": "stdout",
     "output_type": "stream",
     "text": [
      "(6962,)\n",
      "(41, 6962)\n"
     ]
    }
   ],
   "source": [
    "def GenerateValData(rawData, ValPercent, TrainingCount): \n",
    "    valSize = int(math.ceil(len(rawData[0])*ValPercent*0.01))\n",
    "    V_End = TrainingCount + valSize\n",
    "    dataMatrix = rawData[:,TrainingCount+1:V_End]\n",
    "    #print (str(ValPercent) + \"% Val Data Generated..\")  \n",
    "    return dataMatrix\n",
    "\n",
    "def GenerateValTargetVector(rawData, ValPercent, TrainingCount): \n",
    "    valSize = int(math.ceil(len(rawData)*ValPercent*0.01))\n",
    "    V_End = TrainingCount + valSize\n",
    "    t =rawData[TrainingCount+1:V_End]\n",
    "    #print (str(ValPercent) + \"% Val Target Data Generated..\")\n",
    "    return t\n",
    "\n",
    "ValDataAct = np.array(GenerateValTargetVector(RawTarget,ValidationPercent, (len(TrainingTarget))))\n",
    "ValData    = GenerateValData(RawData,ValidationPercent, (len(TrainingTarget)))\n",
    "print(ValDataAct.shape)\n",
    "print(ValData.shape)"
   ]
  },
  {
   "cell_type": "markdown",
   "metadata": {},
   "source": [
    "## Prepare Test Data"
   ]
  },
  {
   "cell_type": "code",
   "execution_count": 9,
   "metadata": {},
   "outputs": [
    {
     "name": "stdout",
     "output_type": "stream",
     "text": [
      "(6961,)\n",
      "(41, 6961)\n"
     ]
    }
   ],
   "source": [
    "TestDataAct = np.array(GenerateValTargetVector(RawTarget,TestPercent, (len(TrainingTarget)+len(ValDataAct))))\n",
    "TestData = GenerateValData(RawData,TestPercent, (len(TrainingTarget)+len(ValDataAct)))\n",
    "print(TestDataAct.shape)\n",
    "print(TestData.shape)"
   ]
  },
  {
   "cell_type": "markdown",
   "metadata": {},
   "source": [
    "## Closed Form Solution [Finding Weights using Moore- Penrose pseudo- Inverse Matrix]"
   ]
  },
  {
   "cell_type": "code",
   "execution_count": 18,
   "metadata": {},
   "outputs": [
    {
     "name": "stdout",
     "output_type": "stream",
     "text": [
      "(41,)\n",
      "[[4.18211557e-20 6.79782941e-05 4.64181366e-16 3.14041926e-27]\n",
      " [1.06046647e-10 2.64772146e-23 1.05994945e-18 2.30577286e-11]\n",
      " [1.04484232e-06 7.56728262e-10 5.77945160e-06 3.11093923e-10]\n",
      " ...\n",
      " [1.82446996e-08 9.32790658e-13 1.62665255e-09 1.98544409e-05]\n",
      " [2.77879695e-21 3.09735847e-39 2.00818263e-32 2.33450074e-08]\n",
      " [3.72465116e-06 6.39500713e-08 9.90675724e-06 3.64671237e-15]]\n"
     ]
    }
   ],
   "source": [
    "def GetScalar(DataRow,MuRow, BigSigInv):  \n",
    "    R = np.subtract(DataRow,MuRow)\n",
    "    #print(np.shape(BigSigInv))\n",
    "    T = np.dot(BigSigInv,np.transpose(R))  \n",
    "    L = np.dot(R,T)\n",
    "    return L\n",
    "\n",
    "def GetRadialBasisOut(DataRow,MuRow, BigSigInv):    \n",
    "    phi_x = math.exp(-0.5*GetScalar(DataRow,MuRow,BigSigInv))\n",
    "    return phi_x\n",
    "\n",
    "def GenerateBigSigma(Data, MuMatrix,TrainingPercent,IsSynthetic):\n",
    "    '''\n",
    "    Generates the vaiance of the data which is Variance, The diagonal elements in the covariance matrix are variances. \n",
    "    It is the building function for the gaussian radial function.\n",
    "    ''' \n",
    "    \n",
    "    BigSigma    = np.zeros((len(Data),len(Data)))\n",
    "    DataT       = np.transpose(Data)\n",
    "    \n",
    "    TrainingLen = math.ceil(len(DataT)*(TrainingPercent*0.01))      \n",
    "    varVect     = []\n",
    "    for i in range(0,len(DataT[0])):\n",
    "        vct = []\n",
    "        for j in range(0,int(TrainingLen)):\n",
    "            vct.append(Data[i][j])\n",
    "        varVect.append(np.var(vct))\n",
    "        \n",
    "    print(np.shape(varVect))\n",
    "    for j in range(len(Data)):\n",
    "        BigSigma[j][j] = varVect[j]\n",
    "    if IsSynthetic == True:\n",
    "        BigSigma = np.dot(3,BigSigma)\n",
    "    else:\n",
    "        BigSigma = np.dot(1,BigSigma)\n",
    "    ##print (\"BigSigma Generated..\")\n",
    "    return BigSigma\n",
    "\n",
    "def GetPhiMatrix(Data, MuMatrix, BigSigma, TrainingPercent):\n",
    "    '''\n",
    "    Generates the Gaussian Radial basis function using BigSigma and the centroids obtained from the previous step\n",
    "    '''\n",
    "    DataT = np.transpose(Data)\n",
    "    TrainingLen = math.ceil(len(DataT)*(TrainingPercent*0.01))         \n",
    "    PHI = np.zeros((int(TrainingLen),len(MuMatrix))) \n",
    "    BigSigInv = np.linalg.pinv(BigSigma)\n",
    "    for  C in range(0,len(MuMatrix)):\n",
    "        for R in range(0,int(TrainingLen)):\n",
    "            # Computes each row for the Phi matrix\n",
    "            PHI[R][C] = GetRadialBasisOut(DataT[R], MuMatrix[C], BigSigInv)\n",
    "            #print(GetRadialBasisOut(DataT[R], MuMatrix[C], BigSigInv))\n",
    "    #print (\"PHI Generated..\")\n",
    "    return PHI\n",
    "\n",
    "\n",
    "def GetWeightsClosedForm(PHI, T, Lambda):\n",
    "    Lambda_I = np.identity(len(PHI[0]))\n",
    "    for i in range(0,len(PHI[0])):\n",
    "        Lambda_I[i][i] = Lambda\n",
    "    PHI_T       = np.transpose(PHI)\n",
    "    PHI_SQR     = np.dot(PHI_T,PHI)\n",
    "    PHI_SQR_LI  = np.add(Lambda_I,PHI_SQR)\n",
    "    PHI_SQR_INV = np.linalg.pinv(PHI_SQR_LI)\n",
    "    INTER       = np.dot(PHI_SQR_INV, PHI_T)\n",
    "    W           = np.dot(INTER, T)\n",
    "    ##print (\"Training Weights Generated..\")\n",
    "    return W\n",
    "\n",
    "ErmsArr = []\n",
    "AccuracyArr = []\n",
    "\n",
    "C_Lambda = 0.9\n",
    "M = 4\n",
    "kmeans = KMeans(n_clusters=M, random_state=0).fit(np.transpose(TrainingData))\n",
    "Mu = kmeans.cluster_centers_\n",
    "\n",
    "BigSigma     = GenerateBigSigma(RawData, Mu, TrainingPercent,IsSynthetic)\n",
    "#print(BigSigma)\n",
    "TRAINING_PHI = GetPhiMatrix(RawData, Mu, BigSigma, TrainingPercent)\n",
    "print(TRAINING_PHI)\n",
    "W            = GetWeightsClosedForm(TRAINING_PHI,TrainingTarget,(C_Lambda)) \n",
    "TEST_PHI     = GetPhiMatrix(TestData, Mu, BigSigma, 100) \n",
    "VAL_PHI      = GetPhiMatrix(ValData, Mu, BigSigma, 100)"
   ]
  },
  {
   "cell_type": "code",
   "execution_count": 23,
   "metadata": {},
   "outputs": [
    {
     "data": {
      "text/plain": [
       "(41, 6962)"
      ]
     },
     "execution_count": 23,
     "metadata": {},
     "output_type": "execute_result"
    }
   ],
   "source": [
    "np.shape(ValData)"
   ]
  },
  {
   "cell_type": "code",
   "execution_count": 16,
   "metadata": {},
   "outputs": [
    {
     "name": "stdout",
     "output_type": "stream",
     "text": [
      "(1, 41)\n",
      "(41, 41)\n",
      "(62661, 1)\n",
      "(1,)\n",
      "(3481, 1)\n",
      "(3480, 1)\n"
     ]
    }
   ],
   "source": [
    "print(Mu.shape)\n",
    "print(BigSigma.shape)\n",
    "print(TRAINING_PHI.shape)\n",
    "print(W.shape)\n",
    "print(VAL_PHI.shape)\n",
    "print(TEST_PHI.shape)"
   ]
  },
  {
   "cell_type": "markdown",
   "metadata": {},
   "source": [
    "## Finding Erms on training, validation and test set "
   ]
  },
  {
   "cell_type": "code",
   "execution_count": 17,
   "metadata": {
    "collapsed": true
   },
   "outputs": [],
   "source": [
    "def GetErms(VAL_TEST_OUT,ValDataAct):\n",
    "    sum = 0.0\n",
    "    t=0\n",
    "    accuracy = 0.0\n",
    "    counter = 0\n",
    "    val = 0.0\n",
    "    for i in range (0,len(VAL_TEST_OUT)):\n",
    "        sum = sum + math.pow((ValDataAct[i] - VAL_TEST_OUT[i]),2)\n",
    "        if(int(np.around(VAL_TEST_OUT[i], 0)) == ValDataAct[i]):\n",
    "            counter+=1\n",
    "    accuracy = (float((counter*100))/float(len(VAL_TEST_OUT)))\n",
    "    ##print (\"Accuracy Generated..\")\n",
    "    ##print (\"Validation E_RMS : \" + str(math.sqrt(sum/len(VAL_TEST_OUT))))\n",
    "    return (str(accuracy) + ',' +  str(math.sqrt(sum/len(VAL_TEST_OUT))))\n",
    "\n",
    "def GetValTest(VAL_PHI,W):\n",
    "    Y = np.dot(W,np.transpose(VAL_PHI))\n",
    "    ##print (\"Test Out Generated..\")\n",
    "    return Y\n",
    "\n",
    "TR_TEST_OUT  = GetValTest(TRAINING_PHI,W)\n",
    "VAL_TEST_OUT = GetValTest(VAL_PHI,W)\n",
    "TEST_OUT     = GetValTest(TEST_PHI,W)\n",
    "\n",
    "TrainingAccuracy   = str(GetErms(TR_TEST_OUT,TrainingTarget))\n",
    "ValidationAccuracy = str(GetErms(VAL_TEST_OUT,ValDataAct))\n",
    "TestAccuracy       = str(GetErms(TEST_OUT,TestDataAct))"
   ]
  },
  {
   "cell_type": "code",
   "execution_count": 22,
   "metadata": {},
   "outputs": [
    {
     "data": {
      "text/plain": [
       "'68.44827586206897,0.6723298422377247'"
      ]
     },
     "execution_count": 22,
     "metadata": {},
     "output_type": "execute_result"
    }
   ],
   "source": [
    "TestAccuracy"
   ]
  },
  {
   "cell_type": "code",
   "execution_count": 19,
   "metadata": {},
   "outputs": [
    {
     "name": "stdout",
     "output_type": "stream",
     "text": [
      "UBITname      = XXXXXXXX\n",
      "Person Number = YYYYYYYY\n",
      "----------------------------------------------------\n",
      "------------------LeToR Data------------------------\n",
      "----------------------------------------------------\n",
      "-------Closed Form with Radial Basis Function-------\n",
      "----------------------------------------------------\n",
      "M = 10 \n",
      "Lambda = 0.9\n",
      "E_rms Training   = 0.5632116086323311\n",
      "E_rms Validation = 0.6050814354239366\n"
     ]
    }
   ],
   "source": [
    "print ('UBITname      = XXXXXXXX')\n",
    "print ('Person Number = YYYYYYYY')\n",
    "print ('----------------------------------------------------')\n",
    "print (\"------------------LeToR Data------------------------\")\n",
    "print ('----------------------------------------------------')\n",
    "print (\"-------Closed Form with Radial Basis Function-------\")\n",
    "print ('----------------------------------------------------')\n",
    "print (\"M = 10 \\nLambda = 0.9\")\n",
    "print (\"E_rms Training   = \" + str(float(TrainingAccuracy.split(',')[1])))\n",
    "print (\"E_rms Validation = \" + str(float(ValidationAccuracy.split(',')[1])))\n",
    "#print (\"E_rms Testing    = \" + str(float(TestAccuracy.split(',')[1])))"
   ]
  },
  {
   "cell_type": "markdown",
   "metadata": {},
   "source": [
    "## Gradient Descent solution for Linear Regression"
   ]
  },
  {
   "cell_type": "code",
   "execution_count": 20,
   "metadata": {},
   "outputs": [
    {
     "name": "stdout",
     "output_type": "stream",
     "text": [
      "----------------------------------------------------\n",
      "--------------Please Wait for 2 mins!----------------\n",
      "----------------------------------------------------\n"
     ]
    }
   ],
   "source": [
    "print ('----------------------------------------------------')\n",
    "print ('--------------Please Wait for 2 mins!----------------')\n",
    "print ('----------------------------------------------------')"
   ]
  },
  {
   "cell_type": "code",
   "execution_count": 144,
   "metadata": {},
   "outputs": [
    {
     "data": {
      "text/plain": [
       "array([0.61217018, 0.16906975, 0.43605902, 0.76926247])"
      ]
     },
     "execution_count": 144,
     "metadata": {},
     "output_type": "execute_result"
    }
   ],
   "source": []
  },
  {
   "cell_type": "code",
   "execution_count": 21,
   "metadata": {},
   "outputs": [
    {
     "name": "stdout",
     "output_type": "stream",
     "text": [
      "---------Iteration: 0--------------\n",
      "---------TrainingData Accuracy: 20.170440944127925,0.6351128856156152--------------\n",
      "---------ValidationData Accuracy: 21.114622234989945,0.6539016839183615--------------\n",
      "---------Iteration: 1--------------\n",
      "---------TrainingData Accuracy: 20.170440944127925,0.6341916928096196--------------\n",
      "---------ValidationData Accuracy: 21.114622234989945,0.6531357348930688--------------\n",
      "---------Iteration: 2--------------\n",
      "---------TrainingData Accuracy: 20.170440944127925,0.633293742827257--------------\n",
      "---------ValidationData Accuracy: 21.114622234989945,0.6523901722703027--------------\n",
      "---------Iteration: 3--------------\n",
      "---------TrainingData Accuracy: 20.170440944127925,0.6324183996990105--------------\n",
      "---------ValidationData Accuracy: 21.114622234989945,0.6516644043596197--------------\n",
      "---------Iteration: 4--------------\n",
      "---------TrainingData Accuracy: 20.170440944127925,0.627103592842929--------------\n",
      "---------ValidationData Accuracy: 21.114622234989945,0.647280471343629--------------\n",
      "---------Iteration: 5--------------\n",
      "---------TrainingData Accuracy: 20.170440944127925,0.6263826379424736--------------\n",
      "---------ValidationData Accuracy: 21.114622234989945,0.6466889287734083--------------\n",
      "---------Iteration: 6--------------\n",
      "---------TrainingData Accuracy: 20.170440944127925,0.6213890921422472--------------\n",
      "---------ValidationData Accuracy: 21.114622234989945,0.6426139090885655--------------\n",
      "---------Iteration: 7--------------\n",
      "---------TrainingData Accuracy: 20.170440944127925,0.6166682970422296--------------\n",
      "---------ValidationData Accuracy: 21.114622234989945,0.6387999329352222--------------\n",
      "---------Iteration: 8--------------\n",
      "---------TrainingData Accuracy: 20.170440944127925,0.6162005461652964--------------\n",
      "---------ValidationData Accuracy: 21.114622234989945,0.6384242307632838--------------\n",
      "---------Iteration: 9--------------\n",
      "---------TrainingData Accuracy: 20.170440944127925,0.6117705969240987--------------\n",
      "---------ValidationData Accuracy: 21.114622234989945,0.634887312011158--------------\n",
      "---------Iteration: 10--------------\n",
      "---------TrainingData Accuracy: 20.170440944127925,0.6075956574626125--------------\n",
      "---------ValidationData Accuracy: 21.114622234989945,0.6315921500562521--------------\n",
      "---------Iteration: 11--------------\n",
      "---------TrainingData Accuracy: 20.170440944127925,0.6073382159664167--------------\n",
      "---------ValidationData Accuracy: 21.114622234989945,0.6313902733664846--------------\n",
      "---------Iteration: 12--------------\n",
      "---------TrainingData Accuracy: 20.170440944127925,0.6034253389248956--------------\n",
      "---------ValidationData Accuracy: 21.114622234989945,0.6283423645421078--------------\n",
      "---------Iteration: 13--------------\n",
      "---------TrainingData Accuracy: 20.170440944127925,0.6032604256073693--------------\n",
      "---------ValidationData Accuracy: 21.114622234989945,0.6282147878567503--------------\n",
      "---------Iteration: 14--------------\n",
      "---------TrainingData Accuracy: 20.170440944127925,0.6030991069984433--------------\n",
      "---------ValidationData Accuracy: 21.114622234989945,0.6280900642209724--------------\n",
      "---------Iteration: 15--------------\n",
      "---------TrainingData Accuracy: 20.170440944127925,0.6029412996933069--------------\n",
      "---------ValidationData Accuracy: 21.114622234989945,0.6279681248063347--------------\n",
      "---------Iteration: 16--------------\n",
      "---------TrainingData Accuracy: 20.170440944127925,0.5992960934566164--------------\n",
      "---------ValidationData Accuracy: 21.114622234989945,0.6251714528823132--------------\n",
      "---------Iteration: 17--------------\n",
      "---------TrainingData Accuracy: 20.170440944127925,0.5992195221125803--------------\n",
      "---------ValidationData Accuracy: 21.114622234989945,0.6251131367160165--------------\n",
      "---------Iteration: 18--------------\n",
      "---------TrainingData Accuracy: 20.170440944127925,0.5991445540688005--------------\n",
      "---------ValidationData Accuracy: 21.114622234989945,0.6250560595884441--------------\n",
      "---------Iteration: 19--------------\n",
      "---------TrainingData Accuracy: 20.170440944127925,0.5957374961703426--------------\n",
      "---------ValidationData Accuracy: 21.114622234989945,0.6224817473221607--------------\n",
      "---------Iteration: 20--------------\n",
      "---------TrainingData Accuracy: 74.59504316879718,0.5925504512987791--------------\n",
      "---------ValidationData Accuracy: 72.01953461648951,0.6201118363487224--------------\n",
      "---------Iteration: 21--------------\n",
      "---------TrainingData Accuracy: 74.59504316879718,0.5926092879305744--------------\n",
      "---------ValidationData Accuracy: 72.01953461648951,0.6201552210911724--------------\n",
      "---------Iteration: 22--------------\n",
      "---------TrainingData Accuracy: 74.59504316879718,0.592667000787947--------------\n",
      "---------ValidationData Accuracy: 72.01953461648951,0.6201977912168982--------------\n",
      "---------Iteration: 23--------------\n",
      "---------TrainingData Accuracy: 74.59504316879718,0.5896840552838462--------------\n",
      "---------ValidationData Accuracy: 72.01953461648951,0.6180165750227165--------------\n",
      "---------Iteration: 24--------------\n",
      "---------TrainingData Accuracy: 74.59504316879718,0.5869054309762024--------------\n",
      "---------ValidationData Accuracy: 72.01953461648951,0.6160233281986464--------------\n",
      "---------Iteration: 25--------------\n",
      "---------TrainingData Accuracy: 74.59504316879718,0.5870661638356943--------------\n",
      "---------ValidationData Accuracy: 72.01953461648951,0.6161375110161892--------------\n",
      "---------Iteration: 26--------------\n",
      "---------TrainingData Accuracy: 74.59504316879718,0.5844724845221623--------------\n",
      "---------ValidationData Accuracy: 72.01953461648951,0.6143135681036261--------------\n",
      "---------Iteration: 27--------------\n",
      "---------TrainingData Accuracy: 74.59504316879718,0.5846728292977381--------------\n",
      "---------ValidationData Accuracy: 72.01953461648951,0.614452977468639--------------\n",
      "---------Iteration: 28--------------\n",
      "---------TrainingData Accuracy: 74.59504316879718,0.5822535377209883--------------\n",
      "---------ValidationData Accuracy: 72.01953461648951,0.6127879091277415--------------\n",
      "---------Iteration: 29--------------\n",
      "---------TrainingData Accuracy: 74.59504316879718,0.5800165050688187--------------\n",
      "---------ValidationData Accuracy: 72.01953461648951,0.6112880555160859--------------\n",
      "---------Iteration: 30--------------\n",
      "---------TrainingData Accuracy: 74.59504316879718,0.58028034841881--------------\n",
      "---------ValidationData Accuracy: 72.01953461648951,0.6114627343641692--------------\n",
      "---------Iteration: 31--------------\n",
      "---------TrainingData Accuracy: 74.59504316879718,0.5781971555095811--------------\n",
      "---------ValidationData Accuracy: 72.01953461648951,0.6101016420292744--------------\n",
      "---------Iteration: 32--------------\n",
      "---------TrainingData Accuracy: 74.59504316879718,0.5762823492385696--------------\n",
      "---------ValidationData Accuracy: 72.01953461648951,0.6088916700196415--------------\n",
      "---------Iteration: 33--------------\n",
      "---------TrainingData Accuracy: 74.59504316879718,0.574528761484306--------------\n",
      "---------ValidationData Accuracy: 72.01953461648951,0.6078256009911105--------------\n",
      "---------Iteration: 34--------------\n",
      "---------TrainingData Accuracy: 74.59504316879718,0.5729293850629986--------------\n",
      "---------ValidationData Accuracy: 72.01953461648951,0.6068964232174829--------------\n",
      "---------Iteration: 35--------------\n",
      "---------TrainingData Accuracy: 74.59504316879718,0.5714773793519222--------------\n",
      "---------ValidationData Accuracy: 72.01953461648951,0.6060973334862219--------------\n",
      "---------Iteration: 36--------------\n",
      "---------TrainingData Accuracy: 74.59504316879718,0.5701660751611536--------------\n",
      "---------ValidationData Accuracy: 72.01953461648951,0.605421739145089--------------\n",
      "---------Iteration: 37--------------\n",
      "---------TrainingData Accuracy: 74.59504316879718,0.5689889788418266--------------\n",
      "---------ValidationData Accuracy: 72.01953461648951,0.6048632593372694--------------\n",
      "---------Iteration: 38--------------\n",
      "---------TrainingData Accuracy: 74.59504316879718,0.5679397756500223--------------\n",
      "---------ValidationData Accuracy: 72.01953461648951,0.6044157254705006--------------\n",
      "---------Iteration: 39--------------\n",
      "---------TrainingData Accuracy: 74.59504316879718,0.5670123323812862--------------\n",
      "---------ValidationData Accuracy: 72.01953461648951,0.6040731809658095--------------\n",
      "---------Iteration: 40--------------\n"
     ]
    },
    {
     "ename": "KeyboardInterrupt",
     "evalue": "",
     "output_type": "error",
     "traceback": [
      "\u001b[0;31m---------------------------------------------------------------------------\u001b[0m",
      "\u001b[0;31mKeyboardInterrupt\u001b[0m                         Traceback (most recent call last)",
      "\u001b[0;32m<ipython-input-21-64fc40336075>\u001b[0m in \u001b[0;36m<module>\u001b[0;34m()\u001b[0m\n\u001b[1;32m     23\u001b[0m     \u001b[0;31m#-----------------TrainingData Accuracy---------------------#\u001b[0m\u001b[0;34m\u001b[0m\u001b[0;34m\u001b[0m\u001b[0m\n\u001b[1;32m     24\u001b[0m     \u001b[0mTR_TEST_OUT\u001b[0m   \u001b[0;34m=\u001b[0m \u001b[0mGetValTest\u001b[0m\u001b[0;34m(\u001b[0m\u001b[0mTRAINING_PHI\u001b[0m\u001b[0;34m,\u001b[0m\u001b[0mW_T_Next\u001b[0m\u001b[0;34m)\u001b[0m\u001b[0;34m\u001b[0m\u001b[0m\n\u001b[0;32m---> 25\u001b[0;31m     \u001b[0mErms_TR\u001b[0m       \u001b[0;34m=\u001b[0m \u001b[0mGetErms\u001b[0m\u001b[0;34m(\u001b[0m\u001b[0mTR_TEST_OUT\u001b[0m\u001b[0;34m,\u001b[0m\u001b[0mTrainingTarget\u001b[0m\u001b[0;34m)\u001b[0m\u001b[0;34m\u001b[0m\u001b[0m\n\u001b[0m\u001b[1;32m     26\u001b[0m     \u001b[0mL_Erms_TR\u001b[0m\u001b[0;34m.\u001b[0m\u001b[0mappend\u001b[0m\u001b[0;34m(\u001b[0m\u001b[0mfloat\u001b[0m\u001b[0;34m(\u001b[0m\u001b[0mErms_TR\u001b[0m\u001b[0;34m.\u001b[0m\u001b[0msplit\u001b[0m\u001b[0;34m(\u001b[0m\u001b[0;34m','\u001b[0m\u001b[0;34m)\u001b[0m\u001b[0;34m[\u001b[0m\u001b[0;36m1\u001b[0m\u001b[0;34m]\u001b[0m\u001b[0;34m)\u001b[0m\u001b[0;34m)\u001b[0m\u001b[0;34m\u001b[0m\u001b[0m\n\u001b[1;32m     27\u001b[0m     \u001b[0mprint\u001b[0m \u001b[0;34m(\u001b[0m\u001b[0;34m'---------TrainingData Accuracy: '\u001b[0m \u001b[0;34m+\u001b[0m \u001b[0mErms_TR\u001b[0m \u001b[0;34m+\u001b[0m \u001b[0;34m'--------------'\u001b[0m\u001b[0;34m)\u001b[0m\u001b[0;34m\u001b[0m\u001b[0m\n",
      "\u001b[0;32m<ipython-input-17-ffe319878d86>\u001b[0m in \u001b[0;36mGetErms\u001b[0;34m(VAL_TEST_OUT, ValDataAct)\u001b[0m\n\u001b[1;32m      6\u001b[0m     \u001b[0mval\u001b[0m \u001b[0;34m=\u001b[0m \u001b[0;36m0.0\u001b[0m\u001b[0;34m\u001b[0m\u001b[0m\n\u001b[1;32m      7\u001b[0m     \u001b[0;32mfor\u001b[0m \u001b[0mi\u001b[0m \u001b[0;32min\u001b[0m \u001b[0mrange\u001b[0m \u001b[0;34m(\u001b[0m\u001b[0;36m0\u001b[0m\u001b[0;34m,\u001b[0m\u001b[0mlen\u001b[0m\u001b[0;34m(\u001b[0m\u001b[0mVAL_TEST_OUT\u001b[0m\u001b[0;34m)\u001b[0m\u001b[0;34m)\u001b[0m\u001b[0;34m:\u001b[0m\u001b[0;34m\u001b[0m\u001b[0m\n\u001b[0;32m----> 8\u001b[0;31m         \u001b[0msum\u001b[0m \u001b[0;34m=\u001b[0m \u001b[0msum\u001b[0m \u001b[0;34m+\u001b[0m \u001b[0mmath\u001b[0m\u001b[0;34m.\u001b[0m\u001b[0mpow\u001b[0m\u001b[0;34m(\u001b[0m\u001b[0;34m(\u001b[0m\u001b[0mValDataAct\u001b[0m\u001b[0;34m[\u001b[0m\u001b[0mi\u001b[0m\u001b[0;34m]\u001b[0m \u001b[0;34m-\u001b[0m \u001b[0mVAL_TEST_OUT\u001b[0m\u001b[0;34m[\u001b[0m\u001b[0mi\u001b[0m\u001b[0;34m]\u001b[0m\u001b[0;34m)\u001b[0m\u001b[0;34m,\u001b[0m\u001b[0;36m2\u001b[0m\u001b[0;34m)\u001b[0m\u001b[0;34m\u001b[0m\u001b[0m\n\u001b[0m\u001b[1;32m      9\u001b[0m         \u001b[0;32mif\u001b[0m\u001b[0;34m(\u001b[0m\u001b[0mint\u001b[0m\u001b[0;34m(\u001b[0m\u001b[0mnp\u001b[0m\u001b[0;34m.\u001b[0m\u001b[0maround\u001b[0m\u001b[0;34m(\u001b[0m\u001b[0mVAL_TEST_OUT\u001b[0m\u001b[0;34m[\u001b[0m\u001b[0mi\u001b[0m\u001b[0;34m]\u001b[0m\u001b[0;34m,\u001b[0m \u001b[0;36m0\u001b[0m\u001b[0;34m)\u001b[0m\u001b[0;34m)\u001b[0m \u001b[0;34m==\u001b[0m \u001b[0mValDataAct\u001b[0m\u001b[0;34m[\u001b[0m\u001b[0mi\u001b[0m\u001b[0;34m]\u001b[0m\u001b[0;34m)\u001b[0m\u001b[0;34m:\u001b[0m\u001b[0;34m\u001b[0m\u001b[0m\n\u001b[1;32m     10\u001b[0m             \u001b[0mcounter\u001b[0m\u001b[0;34m+=\u001b[0m\u001b[0;36m1\u001b[0m\u001b[0;34m\u001b[0m\u001b[0m\n",
      "\u001b[0;31mKeyboardInterrupt\u001b[0m: "
     ]
    }
   ],
   "source": [
    "np.random.seed(111)\n",
    "\n",
    "W_Now        = np.random.rand(np.shape(W)[0])\n",
    "La           = 1\n",
    "learningRate = 0.01\n",
    "L_Erms_Val   = []\n",
    "L_Erms_TR    = []\n",
    "L_Erms_Test  = []\n",
    "W_Mat        = []\n",
    "\n",
    "TRAINING_PHI = GetPhiMatrix(RawData, Mu, BigSigma, TrainingPercent)\n",
    "\n",
    "for i in range(0,400):\n",
    "    \n",
    "    print ('---------Iteration: ' + str(i) + '--------------')\n",
    "    Delta_E_D     = -np.dot((TrainingTarget[i] - np.dot(np.transpose(W_Now),TRAINING_PHI[i])),TRAINING_PHI[i])\n",
    "    La_Delta_E_W  = np.dot(La,W_Now)\n",
    "    Delta_E       = np.add(Delta_E_D,La_Delta_E_W)    \n",
    "    Delta_W       = -np.dot(learningRate,Delta_E)\n",
    "    W_T_Next      = W_Now + Delta_W\n",
    "    W_Now         = W_T_Next\n",
    "    \n",
    "    #-----------------TrainingData Accuracy---------------------#\n",
    "    TR_TEST_OUT   = GetValTest(TRAINING_PHI,W_T_Next) \n",
    "    Erms_TR       = GetErms(TR_TEST_OUT,TrainingTarget)\n",
    "    L_Erms_TR.append(float(Erms_TR.split(',')[1]))\n",
    "    print ('---------TrainingData Accuracy: ' + Erms_TR + '--------------')\n",
    "    \n",
    "    #-----------------ValidationData Accuracy---------------------#\n",
    "    VAL_TEST_OUT  = GetValTest(VAL_PHI,W_T_Next) \n",
    "    Erms_Val      = GetErms(VAL_TEST_OUT,ValDataAct)\n",
    "    L_Erms_Val.append(float(Erms_Val.split(',')[1]))\n",
    "    print ('---------ValidationData Accuracy: ' + Erms_Val + '--------------')\n",
    "    \n",
    "    #-----------------TestingData Accuracy---------------------#\n",
    "    TEST_OUT      = GetValTest(TEST_PHI,W_T_Next) \n",
    "    Erms_Test = GetErms(TEST_OUT,TestDataAct)\n",
    "    L_Erms_Test.append(float(Erms_Test.split(',')[1]))"
   ]
  },
  {
   "cell_type": "code",
   "execution_count": 23,
   "metadata": {},
   "outputs": [
    {
     "name": "stdout",
     "output_type": "stream",
     "text": [
      "----------Gradient Descent Solution--------------------\n",
      "M = 15 \n",
      "Lambda  = 0.0001\n",
      "eta=0.01\n",
      "E_rms Training   = 0.56701\n",
      "E_rms Validation = 0.60407\n"
     ]
    }
   ],
   "source": [
    "print ('----------Gradient Descent Solution--------------------')\n",
    "print (\"M = 15 \\nLambda  = 0.0001\\neta=0.01\")\n",
    "print (\"E_rms Training   = \" + str(np.around(min(L_Erms_TR),5)))\n",
    "print (\"E_rms Validation = \" + str(np.around(min(L_Erms_Val),5)))\n",
    "#print (\"E_rms Testing    = \" + str(np.around(min(L_Erms_Test),5)))"
   ]
  },
  {
   "cell_type": "code",
   "execution_count": null,
   "metadata": {
    "collapsed": true
   },
   "outputs": [],
   "source": []
  },
  {
   "cell_type": "code",
   "execution_count": null,
   "metadata": {
    "collapsed": true
   },
   "outputs": [],
   "source": []
  }
 ],
 "metadata": {
  "kernelspec": {
   "display_name": "Python 3",
   "language": "python",
   "name": "python3"
  },
  "language_info": {
   "codemirror_mode": {
    "name": "ipython",
    "version": 3
   },
   "file_extension": ".py",
   "mimetype": "text/x-python",
   "name": "python",
   "nbconvert_exporter": "python",
   "pygments_lexer": "ipython3",
   "version": "3.6.3"
  }
 },
 "nbformat": 4,
 "nbformat_minor": 2
}
